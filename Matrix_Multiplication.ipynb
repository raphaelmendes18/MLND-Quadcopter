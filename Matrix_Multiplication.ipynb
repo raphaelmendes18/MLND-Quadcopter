{
  "nbformat": 4,
  "nbformat_minor": 0,
  "metadata": {
    "colab": {
      "name": "Matrix Multiplication.ipynb",
      "version": "0.3.2",
      "provenance": [],
      "include_colab_link": true
    },
    "kernelspec": {
      "name": "python3",
      "display_name": "Python 3"
    }
  },
  "cells": [
    {
      "cell_type": "markdown",
      "metadata": {
        "id": "view-in-github",
        "colab_type": "text"
      },
      "source": [
        "<a href=\"https://colab.research.google.com/github/raphaelmendes18/MLND-Quadcopter/blob/master/Matrix_Multiplication.ipynb\" target=\"_parent\"><img src=\"https://colab.research.google.com/assets/colab-badge.svg\" alt=\"Open In Colab\"/></a>"
      ]
    },
    {
      "metadata": {
        "id": "XX5fji5UuLfK",
        "colab_type": "text"
      },
      "cell_type": "markdown",
      "source": [
        "## Projeto 1 - Análise de Algoritmos:\n",
        "### Multiplicação de Matrizes\n",
        "\n",
        "- Método 1: Multiplicação Comum\n",
        "- Método 2: Algoritmo de Strassen"
      ]
    },
    {
      "metadata": {
        "id": "nlrT4lmjt-km",
        "colab_type": "code",
        "colab": {}
      },
      "cell_type": "code",
      "source": [
        "import numpy as np\n",
        "import matplotlib as plt\n",
        "import seaborn as sns\n",
        "import random\n",
        "\n",
        "class Matrix():\n",
        "  \n",
        "  def __init__(self, n_rows=10, n_cols=10, min_range = 1, max_range = 100,matrix = None):\n",
        "    \n",
        "    if matrix is None:\n",
        "      matrix = []\n",
        "      for i in range(0,n_cols):\n",
        "        tuple = []\n",
        "        for j in range(0,n_rows):\n",
        "          tuple.append(random.randint(min_range, max_range))\n",
        "        matrix.append(tuple)\n",
        "\n",
        "      self.matrix = np.matrix(matrix)\n",
        "      self.n_rows = n_rows\n",
        "      self.n_cols = n_cols\n",
        "    else:\n",
        "      self.matrix = np.matrix(matrix)\n",
        "      self.n_rows = n_rows\n",
        "      self.n_cols = n_cols\n",
        "  \n",
        "  def __repr__(self):\n",
        "    return str(self.matrix)\n",
        "  \n",
        "  @staticmethod\n",
        "  def multiply(A, B):\n",
        "    \n",
        "    if A.n_cols != B.n_rows:\n",
        "      raise ValueError('Matrices cannot be multiplied n_cols != n_rows')\n",
        "    else:\n",
        "      result_matrix = []\n",
        "      for i in range(0,A.n_rows): #row iterator of Matrix A\n",
        "        result_row = []\n",
        "        for k in range(0,B.n_cols): #column iterator of Matrix B\n",
        "          value = 0\n",
        "          for j in range(0,A.n_cols): #column iterator of Matrix A and row iterator of Matrix B\n",
        "            value += int(A.matrix[[i],[j]]) * int(B.matrix[[j],[k]])\n",
        "          result_row.append(value)\n",
        "        result_matrix.append(result_row)\n",
        "      return Matrix(matrix=result_matrix,n_rows=A.n_rows,n_cols=B.n_cols)\n",
        "    \n",
        "  def multiply_strassen(A,B):\n",
        "    pass\n",
        "  \n",
        "  def print_matrix(self):\n",
        "    print(\"MATRIX WITH SHAPE: {}\".format(self.matrix.shape))\n",
        "    for i in range(0,self.n_rows):\n",
        "      print(self.matrix[[i]])\n",
        "    "
      ],
      "execution_count": 0,
      "outputs": []
    },
    {
      "metadata": {
        "id": "1eJKx-IHxhpz",
        "colab_type": "code",
        "colab": {
          "base_uri": "https://localhost:8080/",
          "height": 204
        },
        "outputId": "c4e351a7-bf93-41dc-c5a5-311f56adfa29"
      },
      "cell_type": "code",
      "source": [
        "A = Matrix()\n",
        "B = Matrix()\n",
        "result_mult = Matrix.multiply(A,B)\n",
        "\n",
        "result_mult.print_matrix()\n"
      ],
      "execution_count": 67,
      "outputs": [
        {
          "output_type": "stream",
          "text": [
            "MATRIX WITH SHAPE: (10, 10)\n",
            "[[18521 20479 33238 26554 39044 12767 27695 41641 36816 35734]]\n",
            "[[20757 13667 30949 30772 31121 17042 32314 36080 27929 26872]]\n",
            "[[21502 22506 36974 29547 39646 15232 32571 41467 40264 41604]]\n",
            "[[25163 25988 36245 35150 44018 21039 29994 47052 36482 39644]]\n",
            "[[23649 23540 38341 32611 42345 19015 30614 41030 37551 42770]]\n",
            "[[25180 23578 40028 38601 44128 21626 37995 44223 39944 47272]]\n",
            "[[24169 21417 35847 31822 37564 19214 30113 42835 34074 32150]]\n",
            "[[20268 19863 36138 29667 42265 16504 29986 39117 36207 44954]]\n",
            "[[20416 18339 40500 36009 37281 19575 36732 38789 33159 37152]]\n",
            "[[16546 13536 26190 26554 28057 15428 24712 32492 22949 22578]]\n"
          ],
          "name": "stdout"
        }
      ]
    },
    {
      "metadata": {
        "id": "xpkkfRL_5IYy",
        "colab_type": "code",
        "colab": {
          "base_uri": "https://localhost:8080/",
          "height": 171
        },
        "outputId": "f4d4292b-13ba-4e6c-da9a-201e273aded4"
      },
      "cell_type": "code",
      "source": [
        "np.matrix(result_mult)"
      ],
      "execution_count": 50,
      "outputs": [
        {
          "output_type": "execute_result",
          "data": {
            "text/plain": [
              "matrix([[[[16175, 11739, 19084, 14362, 21526, 19140, 23668, 16605, 15319, 21089], [23249, 23928, 20906, 13648, 22476, 19919, 24500, 27786, 16556, 27532], [20575, 21371, 23485, 15404, 30958, 29639, 30076, 27017, 18845, 28147], [22163, 24243, 23069, 24137, 37121, 34898, 35436, 32889, 27325, 33187], [30130, 26698, 33161, 16331, 36503, 25875, 33924, 38026, 28391, 37048], [24269, 24498, 26563, 20993, 40648, 36885, 39725, 33957, 28116, 34061], [22944, 16077, 27674, 21166, 33001, 23899, 32975, 28921, 26547, 34362], [26528, 23498, 29117, 21837, 40013, 34522, 37652, 35071, 30548, 35970], [21018, 19689, 23446, 13972, 26852, 27193, 28998, 24293, 19605, 26711], [20881, 23314, 31836, 15413, 38615, 31423, 35818, 29216, 25729, 30878]]]],\n",
              "       dtype=object)"
            ]
          },
          "metadata": {
            "tags": []
          },
          "execution_count": 50
        }
      ]
    },
    {
      "metadata": {
        "id": "gEo2ygWwuDuR",
        "colab_type": "text"
      },
      "cell_type": "markdown",
      "source": [
        ""
      ]
    }
  ]
}